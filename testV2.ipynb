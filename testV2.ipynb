{
 "cells": [
  {
   "cell_type": "code",
   "execution_count": 1,
   "id": "9e36a46c",
   "metadata": {},
   "outputs": [],
   "source": [
    "import pennylane as qml\n",
    "from pennylane import numpy as np\n",
    "import qemzmsepcV2 as qem"
   ]
  },
  {
   "cell_type": "code",
   "execution_count": 2,
   "id": "fe614404",
   "metadata": {},
   "outputs": [],
   "source": [
    "n_qubits = 4\n",
    "dev = qml.device('default.mixed', wires=n_qubits)\n",
    "rotation_angle_of_rx = 0\n",
    "rotation_angle_of_rz = -0.2\n",
    "\n",
    "def trotterstep1():\n",
    "    qml.RX(rotation_angle_of_rx, wires=0)\n",
    "    qml.RX(rotation_angle_of_rx, wires=1)\n",
    "    qml.RX(rotation_angle_of_rx, wires=2)\n",
    "    qml.RX(rotation_angle_of_rx, wires=3)\n",
    "    qml.CNOT(wires=[0, 1])\n",
    "    qml.CNOT(wires=[2, 3])\n",
    "    qml.RZ(rotation_angle_of_rz, wires=1)\n",
    "    qml.RZ(rotation_angle_of_rz, wires=3)\n",
    "    qml.CNOT(wires=[0, 1])\n",
    "    qml.CNOT(wires=[2, 3])\n",
    "    qml.CNOT(wires=[1, 2])\n",
    "    qml.RZ(rotation_angle_of_rz, wires=2)\n",
    "    qml.CNOT(wires=[1, 2])"
   ]
  },
  {
   "cell_type": "code",
   "execution_count": 3,
   "id": "4b058798",
   "metadata": {},
   "outputs": [
    {
     "name": "stdout",
     "output_type": "stream",
     "text": [
      "z_ideal is 1.0\n",
      "z_unmitigated is 0.44885978569304075\n",
      "z_mitigated is 1.0000000000000058\n",
      "------------------\n",
      "z_ideal is 0.5931327983656769\n",
      "z_unmitigated is 0.26623346076193155\n",
      "z_mitigated is 0.5931327983656792\n",
      "------------------\n",
      "z_ideal is 0.1493041506116879\n",
      "z_unmitigated is 0.06701662904664486\n",
      "z_mitigated is 0.1493041506116927\n",
      "------------------\n",
      "z_ideal is 0.0051202072280735166\n",
      "z_unmitigated is 0.0022982551190989277\n",
      "z_mitigated is 0.005120207228077064\n",
      "------------------\n",
      "z_ideal is 0.0002755900039979539\n",
      "z_unmitigated is 0.00012370127013251048\n",
      "z_mitigated is 0.00027559000399602496\n",
      "------------------\n",
      "z_ideal is 0.06495850756506487\n",
      "z_unmitigated is 0.02915726178459092\n",
      "z_mitigated is 0.0649585075650566\n",
      "------------------\n",
      "z_ideal is 0.4119471515970569\n",
      "z_unmitigated is 0.1849065101827162\n",
      "z_mitigated is 0.4119471515970647\n",
      "------------------\n"
     ]
    }
   ],
   "source": [
    "nqubitschannel = qem.NqubitsChannel(n_qubits)\n",
    "pauli_channel = nqubitschannel.nqubitsrandompaulichannel(p_identity=0.5)\n",
    "qemzmsepc = qem.QEMZMSEPC(n_qubits)\n",
    "\n",
    "rotation_angle = [0, 0.5, 0.9, 1.3, 1.7, 2.1, 2.5]\n",
    "p = 0.8\n",
    "for rotation_angle_of_rx in rotation_angle:\n",
    "    z_ideal = qemzmsepc.noise_circuit_output(dev, trotterstep1)\n",
    "    print(f\"z_ideal is {z_ideal}\")\n",
    "    z_unmitigated = qemzmsepc.noise_circuit_output(dev, trotterstep1, p=p,\n",
    "                       kraus_matrices_of_a_pauli_channel=pauli_channel,\n",
    "                       need_gate_noise=True, need_measurement_noise=True)\n",
    "    print(f\"z_unmitigated is {z_unmitigated}\")\n",
    "    z_mitigated, _ = qemzmsepc.qemzmsepc(trotterstep1, p, dev, pauli_channel)\n",
    "    print(f\"z_mitigated is {z_mitigated}\")\n",
    "    print(\"------------------\")\n"
   ]
  }
 ],
 "metadata": {
  "kernelspec": {
   "display_name": "Python 3 (ipykernel)",
   "language": "python",
   "name": "python3"
  },
  "language_info": {
   "codemirror_mode": {
    "name": "ipython",
    "version": 3
   },
   "file_extension": ".py",
   "mimetype": "text/x-python",
   "name": "python",
   "nbconvert_exporter": "python",
   "pygments_lexer": "ipython3",
   "version": "3.7.16"
  }
 },
 "nbformat": 4,
 "nbformat_minor": 5
}

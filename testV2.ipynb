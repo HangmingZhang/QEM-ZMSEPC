{
 "cells": [
  {
   "cell_type": "code",
   "execution_count": 1,
   "id": "9e36a46c",
   "metadata": {},
   "outputs": [],
   "source": [
    "import pennylane as qml\n",
    "from pennylane import numpy as np\n",
    "import qemzmsepcV2 as qem"
   ]
  },
  {
   "cell_type": "code",
   "execution_count": 2,
   "id": "61780ad3",
   "metadata": {},
   "outputs": [
    {
     "name": "stdout",
     "output_type": "stream",
     "text": [
      "z_ideal is 1.0\n",
      "z_unmitigated is 0.28191171312999513\n",
      "z_mitigated is 1.0000000000000058\n",
      "------------------\n",
      "z_ideal is 0.5931327983656769\n",
      "z_unmitigated is 0.16721108330085613\n",
      "z_mitigated is 0.593132798365679\n",
      "------------------\n",
      "z_ideal is 0.08522112911847729\n",
      "z_unmitigated is 0.024024834504663414\n",
      "z_mitigated is 0.08522112911848502\n",
      "------------------\n",
      "z_ideal is 2.5037531073114627e-05\n",
      "z_unmitigated is 7.058373277309127e-06\n",
      "z_mitigated is 2.5037531073066387e-05\n",
      "------------------\n",
      "z_ideal is 0.029990685342117292\n",
      "z_unmitigated is 0.008454725482737787\n",
      "z_mitigated is 0.02999068534211013\n",
      "------------------\n",
      "z_ideal is 0.4119471515970569\n",
      "z_unmitigated is 0.11613272722574977\n",
      "z_mitigated is 0.4119471515970639\n",
      "------------------\n"
     ]
    }
   ],
   "source": [
    "n_qubits = 4\n",
    "dev = qml.device('default.mixed', wires=n_qubits)\n",
    "nqubitschannel = qem.NqubitsChannel(n_qubits)\n",
    "pauli_channel = nqubitschannel.nqubitsrandompaulichannel(p_identity=0.5)\n",
    "qemzmsepc = qem.QEMZMSEPC(n_qubits)\n",
    "p = 0.8\n",
    "\n",
    "def trotterstep1(rotation_angle_of_rx, rotation_angle_of_rz):\n",
    "    qml.RX(rotation_angle_of_rx, wires=0)\n",
    "    qml.RX(rotation_angle_of_rx, wires=1)\n",
    "    qml.RX(rotation_angle_of_rx, wires=2)\n",
    "    qml.RX(rotation_angle_of_rx, wires=3)\n",
    "    qml.CNOT(wires=[0, 1])\n",
    "    qml.CNOT(wires=[2, 3])\n",
    "    qml.RZ(rotation_angle_of_rz, wires=1)\n",
    "    qml.RZ(rotation_angle_of_rz, wires=3)\n",
    "    qml.CNOT(wires=[0, 1])\n",
    "    qml.CNOT(wires=[2, 3])\n",
    "    qml.CNOT(wires=[1, 2])\n",
    "    qml.RZ(rotation_angle_of_rz, wires=2)\n",
    "    qml.CNOT(wires=[1, 2])\n",
    "\n",
    "rotation_angles = [0, 0.5, 1, 1.5, 2, 2.5]\n",
    "rotation_angle_of_rz = -0.2\n",
    "for rotation_angle_of_rx in rotation_angles:\n",
    "    ideal_output_func = qemzmsepc.noise_circuit(trotterstep1)\n",
    "    z_ideal = qml.QNode(ideal_output_func, dev)(rotation_angle_of_rx, rotation_angle_of_rz)\n",
    "    print(f\"z_ideal is {z_ideal}\")\n",
    "    noise_output_func = qemzmsepc.noise_circuit(trotterstep1, p=p, kraus_matrices_of_a_pauli_channel=pauli_channel,\n",
    "                                            need_gate_noise=True, need_measurement_noise=True)\n",
    "    z_unmitigated = qml.QNode(noise_output_func, dev)(rotation_angle_of_rx, rotation_angle_of_rz)\n",
    "    print(f\"z_unmitigated is {z_unmitigated}\")\n",
    "    z_mitigated, _  = qemzmsepc.qemzmsepc(trotterstep1, p, dev, pauli_channel,\n",
    "                                      rotation_angle_of_rx, rotation_angle_of_rz)\n",
    "    print(f\"z_mitigated is {z_mitigated}\")\n",
    "    print(\"------------------\")"
   ]
  }
 ],
 "metadata": {
  "kernelspec": {
   "display_name": "Python 3 (ipykernel)",
   "language": "python",
   "name": "python3"
  },
  "language_info": {
   "codemirror_mode": {
    "name": "ipython",
    "version": 3
   },
   "file_extension": ".py",
   "mimetype": "text/x-python",
   "name": "python",
   "nbconvert_exporter": "python",
   "pygments_lexer": "ipython3",
   "version": "3.7.16"
  }
 },
 "nbformat": 4,
 "nbformat_minor": 5
}

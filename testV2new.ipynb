{
 "cells": [
  {
   "cell_type": "code",
   "execution_count": 1,
   "id": "9e36a46c",
   "metadata": {},
   "outputs": [],
   "source": [
    "import pennylane as qml\n",
    "from pennylane import numpy as np\n",
    "import qemzmsepcV2new as qem"
   ]
  },
  {
   "cell_type": "code",
   "execution_count": 2,
   "id": "ea5ddbcd",
   "metadata": {},
   "outputs": [],
   "source": [
    "n_qubits = 4\n",
    "dev = qml.device('default.mixed', wires=n_qubits)\n",
    "nqubitschannel = qem.NqubitsChannel(n_qubits)\n",
    "pauli_channel = nqubitschannel.nqubitsrandompaulichannel(p_identity=0.5)\n",
    "qemzmsepc = qem.QEMZMSEPC(n_qubits)\n",
    "p = 0.8"
   ]
  },
  {
   "cell_type": "code",
   "execution_count": 3,
   "id": "84df6a71",
   "metadata": {},
   "outputs": [],
   "source": [
    "def trotterstep1(rotation_angle_of_rx, rotation_angle_of_rz):\n",
    "    qml.RX(rotation_angle_of_rx, wires=0)\n",
    "    qml.RX(rotation_angle_of_rx, wires=1)\n",
    "    qml.RX(rotation_angle_of_rx, wires=2)\n",
    "    qml.RX(rotation_angle_of_rx, wires=3)\n",
    "    qml.CNOT(wires=[0, 1])\n",
    "    qml.CNOT(wires=[2, 3])\n",
    "    qml.RZ(rotation_angle_of_rz, wires=1)\n",
    "    qml.RZ(rotation_angle_of_rz, wires=3)\n",
    "    qml.CNOT(wires=[0, 1])\n",
    "    qml.CNOT(wires=[2, 3])\n",
    "    qml.CNOT(wires=[1, 2])\n",
    "    qml.RZ(rotation_angle_of_rz, wires=2)\n",
    "    qml.CNOT(wires=[1, 2])"
   ]
  },
  {
   "cell_type": "code",
   "execution_count": 4,
   "id": "61780ad3",
   "metadata": {},
   "outputs": [
    {
     "name": "stdout",
     "output_type": "stream",
     "text": [
      "rotation_angle_of_rx is 0:\n",
      "z_ideal is 1.0\n",
      "z_unmitigated is 0.2136913107097822\n",
      "z_mitigated is 1.000000000000004\n",
      "------------------\n",
      "rotation_angle_of_rx is 0.5:\n",
      "z_ideal is 0.5931327983656769\n",
      "z_unmitigated is 0.12674732510772257\n",
      "z_mitigated is 0.5931327983656788\n",
      "------------------\n",
      "rotation_angle_of_rx is 1:\n",
      "z_ideal is 0.08522112911847729\n",
      "z_unmitigated is 0.018211014781495786\n",
      "z_mitigated is 0.08522112911848559\n",
      "------------------\n",
      "rotation_angle_of_rx is 1.5:\n",
      "z_ideal is 2.5037531073114627e-05\n",
      "z_unmitigated is 5.350302831892695e-06\n",
      "z_mitigated is 2.503753107339751e-05\n",
      "------------------\n",
      "rotation_angle_of_rx is 2:\n",
      "z_ideal is 0.029990685342117292\n",
      "z_unmitigated is 0.006408748859840944\n",
      "z_mitigated is 0.02999068534211083\n",
      "------------------\n",
      "rotation_angle_of_rx is 2.5:\n",
      "z_ideal is 0.4119471515970569\n",
      "z_unmitigated is 0.08802952676793763\n",
      "z_mitigated is 0.41194715159706286\n",
      "------------------\n",
      "rotation_angle_of_rx is 3:\n",
      "z_ideal is 0.9605668881667448\n",
      "z_unmitigated is 0.2052647973567689\n",
      "z_mitigated is 0.9605668881667554\n",
      "------------------\n"
     ]
    }
   ],
   "source": [
    "rotation_angles = [0, 0.5, 1, 1.5, 2, 2.5, 3]\n",
    "rotation_angle_of_rz = -0.2\n",
    "for rotation_angle_of_rx in rotation_angles:\n",
    "    print(f\"rotation_angle_of_rx is {rotation_angle_of_rx}:\")\n",
    "    z_ideal = qml.QNode(qemzmsepc.noise_circuit, dev)(trotterstep1, rotation_angle_of_rx, rotation_angle_of_rz)\n",
    "    print(f\"z_ideal is {z_ideal}\")\n",
    "    \n",
    "    z_unmitigated = qml.QNode(qemzmsepc.noise_circuit, dev)(trotterstep1, \n",
    "                    rotation_angle_of_rx, rotation_angle_of_rz, p=p, \n",
    "                    kraus_matrices_of_a_pauli_channel=pauli_channel, need_gate_noise=True,\n",
    "                    need_measurement_noise=True)\n",
    "    print(f\"z_unmitigated is {z_unmitigated}\")\n",
    "    \n",
    "    z_mitigated, _  = qemzmsepc.qemzmsepc(trotterstep1, z_unmitigated, p, dev,\n",
    "                    rotation_angle_of_rx, rotation_angle_of_rz,\n",
    "                    kraus_matrices_of_a_pauli_channel=pauli_channel)\n",
    "    print(f\"z_mitigated is {z_mitigated}\")\n",
    "    print(\"------------------\")"
   ]
  },
  {
   "cell_type": "code",
   "execution_count": null,
   "id": "dd1da2c6",
   "metadata": {},
   "outputs": [],
   "source": []
  }
 ],
 "metadata": {
  "kernelspec": {
   "display_name": "Python 3 (ipykernel)",
   "language": "python",
   "name": "python3"
  },
  "language_info": {
   "codemirror_mode": {
    "name": "ipython",
    "version": 3
   },
   "file_extension": ".py",
   "mimetype": "text/x-python",
   "name": "python",
   "nbconvert_exporter": "python",
   "pygments_lexer": "ipython3",
   "version": "3.7.16"
  }
 },
 "nbformat": 4,
 "nbformat_minor": 5
}

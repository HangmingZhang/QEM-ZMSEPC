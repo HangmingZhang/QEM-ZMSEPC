{
 "cells": [
  {
   "cell_type": "code",
   "execution_count": 1,
   "id": "236a9109",
   "metadata": {},
   "outputs": [],
   "source": [
    "import pennylane as qml\n",
    "from pennylane import numpy as np\n",
    "import qemzmsepc as qem"
   ]
  },
  {
   "cell_type": "code",
   "execution_count": 2,
   "id": "60e0ddf0",
   "metadata": {},
   "outputs": [
    {
     "name": "stdout",
     "output_type": "stream",
     "text": [
      "Cost after step     5:  0.9594914\n",
      "Cost after step    10:  0.2460653\n",
      "Cost after step    15:  0.1239201\n",
      "Cost after step    20:  0.0847992\n",
      "Cost after step    25:  0.0668109\n",
      "Cost after step    30:  0.0567241\n",
      "Cost after step    35:  0.0503400\n",
      "Cost after step    40:  0.0459657\n",
      "Cost after step    45:  0.0428002\n",
      "Cost after step    50:  0.0404181\n",
      "Cost after step    55:  0.0385734\n",
      "Cost after step    60:  0.0371133\n",
      "Cost after step    65:  0.0359379\n",
      "Cost after step    70:  0.0349792\n",
      "Cost after step    75:  0.0341886\n",
      "Cost after step    80:  0.0335310\n",
      "Cost after step    85:  0.0329802\n",
      "Cost after step    90:  0.0325158\n",
      "Cost after step    95:  0.0321225\n",
      "Cost after step   100:  0.0317879\n",
      "Optimized rotation angles: [[[ 0.98527287  1.40624423  0.05604274]\n",
      "  [ 0.24127555  0.76391887  0.1315054 ]]\n",
      "\n",
      " [[-0.11818263  2.3767891   0.52192344]\n",
      "  [ 0.42481946  0.62236572  0.66514543]]]\n"
     ]
    }
   ],
   "source": [
    "# we introduced noise into the network and trained it without any error mitigation techniques\n",
    "# to observe the behavior of the Loss function degradation during training.\n",
    "\n",
    "n_qubits = 2\n",
    "dev = qml.device('default.mixed', wires=n_qubits)\n",
    "\n",
    "nqubitspaulimatrices = qem.NqubitsPauliMatrices(n_qubits)\n",
    "pauli_set_of_n_qubits = nqubitspaulimatrices.get_pauli_matrices_of_n_qubits()\n",
    "nqubitschannel = qem.NqubitsChannel(n_qubits, pauli_set_of_n_qubits)\n",
    "\n",
    "nqubitspaulichannel = nqubitschannel.nqubitsrandompaulichannel(p_identity=0.9)\n",
    "nqubitsdepolarizingchannel = nqubitschannel.nqubitsdepolarizingchannel(0.9)\n",
    "\n",
    "@qml.qnode(qml.device('default.mixed', wires=n_qubits))\n",
    "def train_cir_without_qem(parameters):\n",
    "    qml.StronglyEntanglingLayers(weights=parameters, wires=range(2))\n",
    "    qml.QubitChannel(nqubitsdepolarizingchannel, wires=[0, 1])\n",
    "    qml.QubitChannel(nqubitspaulichannel, wires=[0, 1])\n",
    "    return qml.expval(qml.PauliZ(0)@qml.PauliZ(1))\n",
    "\n",
    "shape = qml.StronglyEntanglingLayers.shape(n_layers=2, n_wires=2)\n",
    "weights = np.random.random(size=shape)\n",
    "\n",
    "def cost(x):\n",
    "    return ((train_cir_without_qem(x))-(-1))**2\n",
    "\n",
    "opt = qml.GradientDescentOptimizer(stepsize=0.1)\n",
    "\n",
    "lst = []\n",
    "steps = 100\n",
    "params = weights\n",
    "\n",
    "for i in range(steps):\n",
    "    params = opt.step(cost, params)\n",
    "    if (i + 1) % 5 == 0:\n",
    "        print(\"Cost after step {:5d}: {: .7f}\".format(i + 1, cost(params)))\n",
    "        lst.append(cost(params))\n",
    "print(\"Optimized rotation angles: {}\".format(params))"
   ]
  },
  {
   "cell_type": "code",
   "execution_count": 3,
   "id": "a61653eb",
   "metadata": {},
   "outputs": [],
   "source": [
    "#  It can be observed that after a certain number of iterations,\n",
    "# the Loss function nearly stops decreasing,\n",
    "# which is due to the limitation of the expressive capacity of the quantum network caused by noise."
   ]
  },
  {
   "cell_type": "code",
   "execution_count": 4,
   "id": "e66d25f0",
   "metadata": {},
   "outputs": [
    {
     "name": "stdout",
     "output_type": "stream",
     "text": [
      "0.8277125429510501\n"
     ]
    }
   ],
   "source": [
    "# We estimate the total noise 'p_t' using the QEMZMSEPC method,\n",
    "# allowing us to incorporate noise 'p_t' into the definition of the Loss function,\n",
    "# thereby mitigating the impact of noise on quantum machine learning tasks.\n",
    "\n",
    "operations = ['RX', 'RY', 'RZ', 'RX', 'RY', 'RZ', 'CNOT', 'CNOT',\n",
    "              'RX', 'RY', 'RZ', 'RX', 'RY', 'RZ', 'CNOT', 'CNOT']\n",
    "\n",
    "shape = qml.StronglyEntanglingLayers.shape(n_layers=2, n_wires=2)\n",
    "weights = np.random.random(size=shape)\n",
    "\n",
    "w = weights.copy().reshape(-1)\n",
    "\n",
    "paras = [[0, w[0]], [0, w[1]], [0, w[2]], [0, w[3]], [0, w[4]], [0, w[5]], [0, 1], [1, 0],\n",
    "         [0, w[6]], [0, w[7]], [0, w[8]], [0, w[9]], [0, w[10]], [0, w[11]], [0, 1], [1, 0]]\n",
    "# Due to our assumption that the noise channel is time-invariant,\n",
    "# we randomly initialize a quantum circuit to estimate,\n",
    "# with the estimation of  considered to be stable and unchanged in the short term.\n",
    "\n",
    "qemzmsepc = qem.QEMZMSEPC(n_qubits)\n",
    "_, p_t = qemzmsepc.qemzmsepc(operations=operations, paras=paras, dev=dev, p=0.9,\n",
    "                             kraus_matrices_of_a_pauli_channel=nqubitspaulichannel)\n",
    "print(p_t)"
   ]
  },
  {
   "cell_type": "code",
   "execution_count": 5,
   "id": "f0bac1f5",
   "metadata": {},
   "outputs": [
    {
     "name": "stdout",
     "output_type": "stream",
     "text": [
      "Cost after step     5:  0.2788743\n",
      "Cost after step    10:  0.0768806\n",
      "Cost after step    15:  0.0333721\n",
      "Cost after step    20:  0.0183003\n",
      "Cost after step    25:  0.0114832\n",
      "Cost after step    30:  0.0078555\n",
      "Cost after step    35:  0.0057046\n",
      "Cost after step    40:  0.0043276\n",
      "Cost after step    45:  0.0033939\n",
      "Cost after step    50:  0.0027323\n",
      "Cost after step    55:  0.0022465\n",
      "Cost after step    60:  0.0018795\n",
      "Cost after step    65:  0.0015954\n",
      "Cost after step    70:  0.0013712\n",
      "Cost after step    75:  0.0011911\n",
      "Cost after step    80:  0.0010442\n",
      "Cost after step    85:  0.0009229\n",
      "Cost after step    90:  0.0008215\n",
      "Cost after step    95:  0.0007360\n",
      "Cost after step   100:  0.0006632\n",
      "Optimized rotation angles: [[[ 0.13852519  1.38179338  0.12677518]\n",
      "  [ 0.39520627  1.44761074  0.23564253]]\n",
      "\n",
      " [[-0.21772258  1.67238086  0.31310511]\n",
      "  [ 0.31703774  0.07002425  0.31852312]]]\n"
     ]
    }
   ],
   "source": [
    "@qml.qnode(qml.device('default.mixed', wires=n_qubits))\n",
    "def train_cir_with_qem(parameters):\n",
    "    qml.StronglyEntanglingLayers(weights=parameters, wires=range(2))\n",
    "    qml.QubitChannel(nqubitsdepolarizingchannel, wires=[0, 1])\n",
    "    qml.QubitChannel(nqubitspaulichannel, wires=[0, 1])\n",
    "    return qml.expval(qml.PauliZ(0)@qml.PauliZ(1))\n",
    "\n",
    "shape = qml.StronglyEntanglingLayers.shape(n_layers=2, n_wires=2)\n",
    "weights = np.random.random(size=shape)\n",
    "\n",
    "# We modify the definition of the Loss function\n",
    "# by dividing the output of the quantum circuit by the noise parameter p_t\n",
    "# to obtain the expected output of the quantum circuit after error mitigation,\n",
    "# and then proceed with the Loss calculation.\n",
    "\n",
    "\n",
    "def cost(x):\n",
    "    return ((train_cir_with_qem(x)/p_t)-(-1))**2\n",
    "\n",
    "opt = qml.GradientDescentOptimizer(stepsize=0.1)\n",
    "\n",
    "lst = []\n",
    "steps = 100\n",
    "params = weights\n",
    "\n",
    "for i in range(steps):\n",
    "    params = opt.step(cost, params)\n",
    "    if (i + 1) % 5 == 0:\n",
    "        print(\"Cost after step {:5d}: {: .7f}\".format(i + 1, cost(params)))\n",
    "        lst.append(cost(params))\n",
    "print(\"Optimized rotation angles: {}\".format(params))"
   ]
  },
  {
   "cell_type": "code",
   "execution_count": 6,
   "id": "2faf6b0d",
   "metadata": {},
   "outputs": [],
   "source": [
    "# It can be seen that the Loss function after error mitigation performs better than without error mitigation."
   ]
  }
 ],
 "metadata": {
  "kernelspec": {
   "display_name": "Python 3 (ipykernel)",
   "language": "python",
   "name": "python3"
  },
  "language_info": {
   "codemirror_mode": {
    "name": "ipython",
    "version": 3
   },
   "file_extension": ".py",
   "mimetype": "text/x-python",
   "name": "python",
   "nbconvert_exporter": "python",
   "pygments_lexer": "ipython3",
   "version": "3.7.16"
  }
 },
 "nbformat": 4,
 "nbformat_minor": 5
}

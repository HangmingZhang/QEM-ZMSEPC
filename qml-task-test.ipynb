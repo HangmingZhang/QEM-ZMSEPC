{
 "cells": [
  {
   "cell_type": "code",
   "execution_count": 1,
   "id": "236a9109",
   "metadata": {},
   "outputs": [],
   "source": [
    "import pennylane as qml\n",
    "from pennylane import numpy as np\n",
    "import qemzmsepc as qem"
   ]
  },
  {
   "cell_type": "code",
   "execution_count": 2,
   "id": "60e0ddf0",
   "metadata": {},
   "outputs": [
    {
     "name": "stdout",
     "output_type": "stream",
     "text": [
      "Cost after step     5:  2.2989231\n",
      "Cost after step    10:  0.7754341\n",
      "Cost after step    15:  0.3306408\n",
      "Cost after step    20:  0.1006391\n",
      "Cost after step    25:  0.1000156\n",
      "Cost after step    30:  0.1206770\n",
      "Cost after step    35:  0.1367316\n",
      "Cost after step    40:  0.0564424\n",
      "Cost after step    45:  0.0284204\n",
      "Cost after step    50:  0.0999624\n",
      "Cost after step    55:  0.0396441\n",
      "Cost after step    60:  0.0242549\n",
      "Cost after step    65:  0.0560122\n",
      "Cost after step    70:  0.0763092\n",
      "Cost after step    75:  0.0871729\n",
      "Cost after step    80:  0.0700602\n",
      "Cost after step    85:  0.0325430\n",
      "Cost after step    90:  0.0190190\n",
      "Cost after step    95:  0.0543895\n",
      "Cost after step   100:  0.0827970\n",
      "Optimized rotation angles: [[[ 0.32001913  1.33916428  0.23937227]\n",
      "  [ 0.82005123  2.65771552 -0.14283203]]\n",
      "\n",
      " [[ 0.279005    0.48305163  0.43061035]\n",
      "  [ 0.38823274  0.67588869  0.48096669]]]\n"
     ]
    }
   ],
   "source": [
    "# we introduced noise into the network and trained it without any error mitigation techniques\n",
    "# to observe the behavior of the Loss function degradation during training.\n",
    "\n",
    "n_qubits = 2\n",
    "dev = qml.device('default.mixed', wires=n_qubits)\n",
    "\n",
    "nqubitspaulimatrices = qem.NqubitsPauliMatrices(n_qubits)\n",
    "pauli_set_of_n_qubits = nqubitspaulimatrices.get_pauli_matrices_of_n_qubits()\n",
    "nqubitschannel = qem.NqubitsChannel(n_qubits, pauli_set_of_n_qubits)\n",
    "\n",
    "nqubitspaulichannel = nqubitschannel.nqubitsrandompaulichannel(p_identity=0.85)\n",
    "nqubitsdepolarizingchannel = nqubitschannel.nqubitsdepolarizingchannel(0.9)\n",
    "\n",
    "@qml.qnode(qml.device('default.mixed', wires=n_qubits))\n",
    "def train_cir_without_qem(parameters):\n",
    "    qml.StronglyEntanglingLayers(weights=parameters, wires=range(2))\n",
    "    qml.QubitChannel(nqubitsdepolarizingchannel, wires=[0, 1])\n",
    "    qml.QubitChannel(nqubitspaulichannel, wires=[0, 1])\n",
    "    return qml.expval(qml.PauliZ(0)@qml.PauliZ(1))\n",
    "\n",
    "shape = qml.StronglyEntanglingLayers.shape(n_layers=2, n_wires=2)\n",
    "weights = np.random.random(size=shape)\n",
    "\n",
    "def cost(x):\n",
    "    return (train_cir_without_qem(x) - (-1)) ** 2\n",
    "\n",
    "opt = qml.GradientDescentOptimizer(stepsize=0.1)\n",
    "steps = 100\n",
    "params = weights\n",
    "\n",
    "for i in range(steps):\n",
    "    nqubitspaulichannel = nqubitschannel.nqubitsrandompaulichannel(p_identity=0.85)\n",
    "    params = opt.step(cost, params)\n",
    "    if (i + 1) % 5 == 0:\n",
    "        print(\"Cost after step {:5d}: {: .7f}\".format(i + 1, cost(params)))\n",
    "print(\"Optimized rotation angles: {}\".format(params))"
   ]
  },
  {
   "cell_type": "code",
   "execution_count": 3,
   "id": "a61653eb",
   "metadata": {},
   "outputs": [],
   "source": [
    "# When simulating a complex scenario of time-varying noise channels,\n",
    "# it can be observed that the descent of the Loss function is relatively unstable\n",
    "# in the absence of error mitigation techniques."
   ]
  },
  {
   "cell_type": "code",
   "execution_count": 4,
   "id": "e66d25f0",
   "metadata": {},
   "outputs": [
    {
     "name": "stdout",
     "output_type": "stream",
     "text": [
      "0.7221190820795362\n"
     ]
    }
   ],
   "source": [
    "# We estimate the total noise 'p_t' using the QEMZMSEPC method,\n",
    "# allowing us to incorporate noise 'p_t' into the definition of the Loss function,\n",
    "# thereby mitigating the impact of noise on quantum machine learning tasks.\n",
    "\n",
    "operations = ['RX', 'RY', 'RZ', 'RX', 'RY', 'RZ', 'CNOT', 'CNOT',\n",
    "              'RX', 'RY', 'RZ', 'RX', 'RY', 'RZ', 'CNOT', 'CNOT']\n",
    "shape = qml.StronglyEntanglingLayers.shape(n_layers=2, n_wires=2)\n",
    "weights = np.random.random(size=shape)\n",
    "w = weights.copy().reshape(-1)\n",
    "paras = [[0, w[0]], [0, w[1]], [0, w[2]], [0, w[3]], [0, w[4]], [0, w[5]], [0, 1], [1, 0],\n",
    "     [0, w[6]], [0, w[7]], [0, w[8]], [0, w[9]], [0, w[10]], [0, w[11]], [0, 1], [1, 0]]\n",
    "qemzmsepc = qem.QEMZMSEPC(n_qubits)\n",
    "_, p_t = qemzmsepc.qemzmsepc(operations=operations, paras=paras, dev=dev, p=0.9,\n",
    "                         kraus_matrices_of_a_pauli_channel=nqubitspaulichannel)\n",
    "print(p_t)"
   ]
  },
  {
   "cell_type": "code",
   "execution_count": 5,
   "id": "f0bac1f5",
   "metadata": {},
   "outputs": [
    {
     "name": "stdout",
     "output_type": "stream",
     "text": [
      "Cost after step     5:  0.2649683\n",
      "Cost after step    10:  0.0547809\n",
      "Cost after step    15:  0.0223220\n",
      "Cost after step    20:  0.0121149\n",
      "Cost after step    25:  0.0076445\n",
      "Cost after step    30:  0.0052879\n",
      "Cost after step    35:  0.0038902\n",
      "Cost after step    40:  0.0029908\n",
      "Cost after step    45:  0.0023766\n",
      "Cost after step    50:  0.0019376\n",
      "Cost after step    55:  0.0016124\n",
      "Cost after step    60:  0.0013644\n",
      "Cost after step    65:  0.0011708\n",
      "Cost after step    70:  0.0010166\n",
      "Cost after step    75:  0.0008916\n",
      "Cost after step    80:  0.0007888\n",
      "Cost after step    85:  0.0007032\n",
      "Cost after step    90:  0.0006312\n",
      "Cost after step    95:  0.0005699\n",
      "Cost after step   100:  0.0005173\n",
      "Optimized rotation angles: [[[ 0.55272645  1.38395009  0.09040103]\n",
      "  [ 0.00984874  1.81377291 -0.06315294]]\n",
      "\n",
      " [[ 0.12919937  1.28799755  0.13952135]\n",
      "  [ 0.60765351  0.68838086  0.21007701]]]\n"
     ]
    }
   ],
   "source": [
    "@qml.qnode(qml.device('default.mixed', wires=n_qubits))\n",
    "def train_cir_with_qem(parameters):\n",
    "    qml.StronglyEntanglingLayers(weights=parameters, wires=range(2))\n",
    "    qml.QubitChannel(nqubitsdepolarizingchannel, wires=[0, 1])\n",
    "    qml.QubitChannel(nqubitspaulichannel, wires=[0, 1])\n",
    "    return qml.expval(qml.PauliZ(0)@qml.PauliZ(1))\n",
    "\n",
    "shape = qml.StronglyEntanglingLayers.shape(n_layers=2, n_wires=2)\n",
    "weights = np.random.random(size=shape)\n",
    "\n",
    "# We modify the definition of the Loss function\n",
    "# by dividing the output of the quantum circuit by the noise parameter p_t\n",
    "# to obtain the expected output of the quantum circuit after error mitigation,\n",
    "# and then proceed with the Loss calculation.\n",
    "\n",
    "def cost(x):\n",
    "    return ((train_cir_with_qem(x) / p_t) - (-1)) ** 2\n",
    "\n",
    "opt = qml.GradientDescentOptimizer(stepsize=0.1)\n",
    "steps = 100\n",
    "params = weights\n",
    "qemzmsepc = qem.QEMZMSEPC(n_qubits)\n",
    "\n",
    "for i in range(steps):\n",
    "    params = opt.step(cost, params)\n",
    "    w = params.copy().reshape(-1)\n",
    "    paras = [[0, w[0]], [0, w[1]], [0, w[2]], [0, w[3]], [0, w[4]], [0, w[5]], [0, 1], [1, 0],\n",
    "         [0, w[6]], [0, w[7]], [0, w[8]], [0, w[9]], [0, w[10]], [0, w[11]], [0, 1], [1, 0]]\n",
    "    nqubitspaulichannel = nqubitschannel.nqubitsrandompaulichannel(p_identity=0.85)\n",
    "    _, p_t = qemzmsepc.qemzmsepc(operations=operations, paras=paras, dev=dev, p=0.9,\n",
    "                             kraus_matrices_of_a_pauli_channel=nqubitspaulichannel)\n",
    "    if (i + 1) % 5 == 0:\n",
    "        print(\"Cost after step {:5d}: {: .7f}\".format(i + 1, cost(params)))\n",
    "print(\"Optimized rotation angles: {}\".format(params))"
   ]
  },
  {
   "cell_type": "code",
   "execution_count": 6,
   "id": "2faf6b0d",
   "metadata": {},
   "outputs": [],
   "source": [
    "# From the results, we can observe that the Loss function exhibits a stable decreasing trend\n",
    "# after error mitigation through the QEMZMSEPC scheme,\n",
    "# and ultimately, the outcome is better than without error mitigation."
   ]
  }
 ],
 "metadata": {
  "kernelspec": {
   "display_name": "Python 3 (ipykernel)",
   "language": "python",
   "name": "python3"
  },
  "language_info": {
   "codemirror_mode": {
    "name": "ipython",
    "version": 3
   },
   "file_extension": ".py",
   "mimetype": "text/x-python",
   "name": "python",
   "nbconvert_exporter": "python",
   "pygments_lexer": "ipython3",
   "version": "3.7.16"
  }
 },
 "nbformat": 4,
 "nbformat_minor": 5
}

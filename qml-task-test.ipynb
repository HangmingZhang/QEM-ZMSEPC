{
 "cells": [
  {
   "cell_type": "code",
   "execution_count": 1,
   "id": "236a9109",
   "metadata": {},
   "outputs": [],
   "source": [
    "import pennylane as qml\n",
    "from pennylane import numpy as np\n",
    "import QEMZMSEPC as qem"
   ]
  },
  {
   "cell_type": "code",
   "execution_count": 2,
   "id": "60e0ddf0",
   "metadata": {},
   "outputs": [
    {
     "name": "stdout",
     "output_type": "stream",
     "text": [
      "Cost after step     5:  0.1735711\n",
      "Cost after step    10:  0.0702897\n",
      "Cost after step    15:  0.0457700\n",
      "Cost after step    20:  0.0360291\n",
      "Cost after step    25:  0.0311375\n",
      "Cost after step    30:  0.0283360\n",
      "Cost after step    35:  0.0265917\n",
      "Cost after step    40:  0.0254413\n",
      "Cost after step    45:  0.0246500\n",
      "Cost after step    50:  0.0240884\n",
      "Cost after step    55:  0.0236801\n",
      "Cost after step    60:  0.0233777\n",
      "Cost after step    65:  0.0231506\n",
      "Cost after step    70:  0.0229780\n",
      "Cost after step    75:  0.0228459\n",
      "Cost after step    80:  0.0227439\n",
      "Cost after step    85:  0.0226649\n",
      "Cost after step    90:  0.0226035\n",
      "Cost after step    95:  0.0225555\n",
      "Cost after step   100:  0.0225179\n",
      "Optimized rotation angles: [[[ 0.93524231  1.53927906  0.01304544]\n",
      "  [ 0.6036347   1.28911111  0.0527892 ]]\n",
      "\n",
      " [[-0.05128551  1.85024235  0.17638228]\n",
      "  [ 0.6259827   0.29750087  0.28238302]]]\n"
     ]
    }
   ],
   "source": [
    "# we introduced noise into the network and trained it without any error mitigation techniques\n",
    "# to observe the behavior of the Loss function degradation during training.\n",
    "\n",
    "n_qubits = 2\n",
    "dev = qml.device('default.mixed', wires=n_qubits)\n",
    "\n",
    "nqubitspaulimatrices = qem.NqubitsPauliMatrices(n_qubits)\n",
    "pauli_set_of_n_qubits = nqubitspaulimatrices.get_pauli_matrices_of_n_qubits()\n",
    "nqubitschannel = qem.NqubitsChannel(n_qubits, pauli_set_of_n_qubits)\n",
    "\n",
    "nqubitspaulichannel = nqubitschannel.nqubitsrandompaulichannel(p_identity=0.9)\n",
    "nqubitsdepolarizingchannel = nqubitschannel.nqubitsdepolarizingchannel(0.9)\n",
    "\n",
    "@qml.qnode(qml.device('default.mixed', wires=n_qubits))\n",
    "def train_cir_without_qem(parameters):\n",
    "    qml.StronglyEntanglingLayers(weights=parameters, wires=range(2))\n",
    "    qml.QubitChannel(nqubitsdepolarizingchannel, wires=[0, 1])\n",
    "    qml.QubitChannel(nqubitspaulichannel, wires=[0, 1])\n",
    "    return qml.expval(qml.PauliZ(0)@qml.PauliZ(1))\n",
    "\n",
    "shape = qml.StronglyEntanglingLayers.shape(n_layers=2, n_wires=2)\n",
    "weights = np.random.random(size=shape)\n",
    "\n",
    "def cost(x):\n",
    "    return ((train_cir_without_qem(x))-(-1))**2\n",
    "\n",
    "opt = qml.GradientDescentOptimizer(stepsize=0.1)\n",
    "\n",
    "lst = []\n",
    "steps = 100\n",
    "params = weights\n",
    "\n",
    "for i in range(steps):\n",
    "    params = opt.step(cost, params)\n",
    "    if (i + 1) % 5 == 0:\n",
    "        print(\"Cost after step {:5d}: {: .7f}\".format(i + 1, cost(params)))\n",
    "        lst.append(cost(params))\n",
    "print(\"Optimized rotation angles: {}\".format(params))"
   ]
  },
  {
   "cell_type": "code",
   "execution_count": 3,
   "id": "a61653eb",
   "metadata": {},
   "outputs": [],
   "source": [
    "#  It can be observed that after a certain number of iterations,\n",
    "# the Loss function nearly stops decreasing,\n",
    "# which is due to the limitation of the expressive capacity of the quantum network caused by noise."
   ]
  },
  {
   "cell_type": "code",
   "execution_count": 4,
   "id": "e66d25f0",
   "metadata": {},
   "outputs": [
    {
     "name": "stdout",
     "output_type": "stream",
     "text": [
      "0.8503999658014473\n"
     ]
    }
   ],
   "source": [
    "# We estimate the total noise 'p_t' using the QEMZMSEPC method,\n",
    "# allowing us to incorporate noise 'p_t' into the definition of the Loss function,\n",
    "# thereby mitigating the impact of noise on quantum machine learning tasks.\n",
    "\n",
    "operations = ['RX', 'RY', 'RZ', 'RX', 'RY', 'RZ', 'CNOT', 'CNOT',\n",
    "              'RX', 'RY', 'RZ', 'RX', 'RY', 'RZ', 'CNOT', 'CNOT']\n",
    "paras = [[0, 0], [0, 0], [0, 0], [0, 0], [0, 0], [0, 0], [0, 1], [1, 0],\n",
    "         [0, 0], [0, 0], [0, 0], [0, 0], [0, 0], [0, 0], [0, 1], [1, 0]]\n",
    "# Due to our assumption that the noise channel is time-invariant,\n",
    "# we randomly initialize a quantum circuit to estimate,\n",
    "# with the estimation of  considered to be stable and unchanged in the short term.\n",
    "\n",
    "qemzmsepc = qem.QEMZMSEPC(n_qubits)\n",
    "_, p_t = qemzmsepc.qemzmsepc(operations=operations, paras=paras, dev=dev, p=0.9,\n",
    "                             kraus_matrices_of_a_pauli_channel=nqubitspaulichannel)\n",
    "print(p_t)"
   ]
  },
  {
   "cell_type": "code",
   "execution_count": 5,
   "id": "f0bac1f5",
   "metadata": {},
   "outputs": [
    {
     "name": "stdout",
     "output_type": "stream",
     "text": [
      "Cost after step     5:  0.6468637\n",
      "Cost after step    10:  0.1300657\n",
      "Cost after step    15:  0.0541426\n",
      "Cost after step    20:  0.0306464\n",
      "Cost after step    25:  0.0202435\n",
      "Cost after step    30:  0.0146398\n",
      "Cost after step    35:  0.0112289\n",
      "Cost after step    40:  0.0089733\n",
      "Cost after step    45:  0.0073901\n",
      "Cost after step    50:  0.0062277\n",
      "Cost after step    55:  0.0053440\n",
      "Cost after step    60:  0.0046532\n",
      "Cost after step    65:  0.0041007\n",
      "Cost after step    70:  0.0036504\n",
      "Cost after step    75:  0.0032775\n",
      "Cost after step    80:  0.0029645\n",
      "Cost after step    85:  0.0026985\n",
      "Cost after step    90:  0.0024703\n",
      "Cost after step    95:  0.0022727\n",
      "Cost after step   100:  0.0021001\n",
      "Optimized rotation angles: [[[0.88979539 1.05758663 0.03756295]\n",
      "  [0.42941859 2.53512339 0.1052398 ]]\n",
      "\n",
      " [[0.08273137 0.58563469 0.35060925]\n",
      "  [0.01258448 0.78138976 0.50541724]]]\n"
     ]
    }
   ],
   "source": [
    "@qml.qnode(qml.device('default.mixed', wires=n_qubits))\n",
    "def train_cir_with_qem(parameters):\n",
    "    qml.StronglyEntanglingLayers(weights=parameters, wires=range(2))\n",
    "    qml.QubitChannel(nqubitsdepolarizingchannel, wires=[0, 1])\n",
    "    qml.QubitChannel(nqubitspaulichannel, wires=[0, 1])\n",
    "    return qml.expval(qml.PauliZ(0)@qml.PauliZ(1))\n",
    "\n",
    "shape = qml.StronglyEntanglingLayers.shape(n_layers=2, n_wires=2)\n",
    "weights = np.random.random(size=shape)\n",
    "\n",
    "# We modify the definition of the Loss function\n",
    "# by dividing the output of the quantum circuit by the noise parameter p_t\n",
    "# to obtain the expected output of the quantum circuit after error mitigation,\n",
    "# and then proceed with the Loss calculation.\n",
    "\n",
    "def cost(x):\n",
    "    return ((train_cir_with_qem(x)/p_t)-(-1))**2\n",
    "\n",
    "opt = qml.GradientDescentOptimizer(stepsize=0.1)\n",
    "\n",
    "lst = []\n",
    "steps = 100\n",
    "params = weights\n",
    "\n",
    "for i in range(steps):\n",
    "    params = opt.step(cost, params)\n",
    "    if (i + 1) % 5 == 0:\n",
    "        print(\"Cost after step {:5d}: {: .7f}\".format(i + 1, cost(params)))\n",
    "        lst.append(cost(params))\n",
    "print(\"Optimized rotation angles: {}\".format(params))"
   ]
  },
  {
   "cell_type": "code",
   "execution_count": 6,
   "id": "2faf6b0d",
   "metadata": {},
   "outputs": [],
   "source": [
    "# It can be seen that the Loss function after error mitigation performs better than without error mitigation."
   ]
  }
 ],
 "metadata": {
  "kernelspec": {
   "display_name": "Python 3 (ipykernel)",
   "language": "python",
   "name": "python3"
  },
  "language_info": {
   "codemirror_mode": {
    "name": "ipython",
    "version": 3
   },
   "file_extension": ".py",
   "mimetype": "text/x-python",
   "name": "python",
   "nbconvert_exporter": "python",
   "pygments_lexer": "ipython3",
   "version": "3.7.16"
  }
 },
 "nbformat": 4,
 "nbformat_minor": 5
}

{
 "cells": [
  {
   "cell_type": "code",
   "execution_count": 1,
   "id": "236a9109",
   "metadata": {},
   "outputs": [],
   "source": [
    "import pennylane as qml\n",
    "from pennylane import numpy as np\n",
    "import QEMZMSEPC as qem"
   ]
  },
  {
   "cell_type": "code",
   "execution_count": 2,
   "id": "e66d25f0",
   "metadata": {},
   "outputs": [
    {
     "name": "stdout",
     "output_type": "stream",
     "text": [
      "0.8750582834828504\n"
     ]
    }
   ],
   "source": [
    "n_qubits = 2\n",
    "dev = qml.device('default.mixed', wires=n_qubits)\n",
    "operations = ['RX', 'RY', 'RZ', 'RX', 'RY', 'RZ', 'CNOT', 'CNOT',\n",
    "              'RX', 'RY', 'RZ', 'RX', 'RY', 'RZ', 'CNOT', 'CNOT']\n",
    "paras = [[0, 0], [0, 0], [0, 0], [0, 0], [0, 0], [0, 0], [0, 1], [1, 0],\n",
    "         [0, 0], [0, 0], [0, 0], [0, 0], [0, 0], [0, 0], [0, 1], [1, 0]]\n",
    "nqubitspaulimatrices = qem.NqubitsPauliMatrices(n_qubits)\n",
    "pauli_set_of_n_qubits = nqubitspaulimatrices.get_pauli_matrices_of_n_qubits()\n",
    "nqubitschannel = qem.NqubitsChannel(n_qubits, pauli_set_of_n_qubits)\n",
    "nqubitspaulichannel = nqubitschannel.nqubitsrandompaulichannel(p_identity=0.8)\n",
    "nqubitsdepolarizingchannel = nqubitschannel.nqubitsdepolarizingchannel(0.9)\n",
    "qemzmsepc = qem.QEMZMSEPC(n_qubits)\n",
    "_, p_t = qemzmsepc.qemzmsepc(operations=operations, paras=paras, dev=dev, p=0.9,\n",
    "                             kraus_matrices_of_a_pauli_channel=nqubitspaulichannel)\n",
    "print(p_t)"
   ]
  },
  {
   "cell_type": "code",
   "execution_count": 3,
   "id": "f0bac1f5",
   "metadata": {},
   "outputs": [
    {
     "name": "stdout",
     "output_type": "stream",
     "text": [
      "Cost after step     5:  0.3518357\n",
      "Cost after step    10:  0.1084642\n",
      "Cost after step    15:  0.0521370\n",
      "Cost after step    20:  0.0311087\n",
      "Cost after step    25:  0.0209547\n",
      "Cost after step    30:  0.0152320\n",
      "Cost after step    35:  0.0116613\n",
      "Cost after step    40:  0.0092679\n",
      "Cost after step    45:  0.0075765\n",
      "Cost after step    50:  0.0063315\n",
      "Cost after step    55:  0.0053852\n",
      "Cost after step    60:  0.0046469\n",
      "Cost after step    65:  0.0040584\n",
      "Cost after step    70:  0.0035807\n",
      "Cost after step    75:  0.0031869\n",
      "Cost after step    80:  0.0028581\n",
      "Cost after step    85:  0.0025802\n",
      "Cost after step    90:  0.0023430\n",
      "Cost after step    95:  0.0021387\n",
      "Cost after step   100:  0.0019614\n",
      "Optimized rotation angles: [[[ 0.69733798  1.26640733  0.3220726 ]\n",
      "  [ 0.52657648  2.42215748  0.21817786]]\n",
      "\n",
      " [[-0.08238892  0.70625101  0.81101352]\n",
      "  [ 0.23009393  0.61641137  0.5280929 ]]]\n"
     ]
    }
   ],
   "source": [
    "@qml.qnode(qml.device('default.mixed', wires=n_qubits))\n",
    "def train_cir_with_qem(parameters):\n",
    "    qml.StronglyEntanglingLayers(weights=parameters, wires=range(2))\n",
    "    qml.QubitChannel(nqubitsdepolarizingchannel, wires=[0, 1])\n",
    "    qml.QubitChannel(nqubitspaulichannel, wires=[0, 1])\n",
    "    return qml.expval(qml.PauliZ(0)@qml.PauliZ(1))\n",
    "\n",
    "\n",
    "shape = qml.StronglyEntanglingLayers.shape(n_layers=2, n_wires=2)\n",
    "weights = np.random.random(size=shape)\n",
    "\n",
    "\n",
    "def cost(x):\n",
    "    return ((train_cir_with_qem(x)/p_t)-(-1))**2\n",
    "\n",
    "opt = qml.GradientDescentOptimizer(stepsize=0.1)\n",
    "\n",
    "lst = []\n",
    "# set the number of steps\n",
    "steps = 100\n",
    "# set the initial parameter values\n",
    "params = weights\n",
    "\n",
    "for i in range(steps):\n",
    "    # update the circuit parameters\n",
    "    params = opt.step(cost, params)\n",
    "\n",
    "    if (i + 1) % 5 == 0:\n",
    "        print(\"Cost after step {:5d}: {: .7f}\".format(i + 1, cost(params)))\n",
    "        lst.append(cost(params))\n",
    "print(\"Optimized rotation angles: {}\".format(params))\n"
   ]
  },
  {
   "cell_type": "code",
   "execution_count": 4,
   "id": "2256b4cf",
   "metadata": {},
   "outputs": [
    {
     "name": "stdout",
     "output_type": "stream",
     "text": [
      "Cost after step     5:  3.0141937\n",
      "Cost after step    10:  0.7783178\n",
      "Cost after step    15:  0.1706781\n",
      "Cost after step    20:  0.0764837\n",
      "Cost after step    25:  0.0481006\n",
      "Cost after step    30:  0.0357251\n",
      "Cost after step    35:  0.0291371\n",
      "Cost after step    40:  0.0251826\n",
      "Cost after step    45:  0.0226162\n",
      "Cost after step    50:  0.0208588\n",
      "Cost after step    55:  0.0196085\n",
      "Cost after step    60:  0.0186938\n",
      "Cost after step    65:  0.0180104\n",
      "Cost after step    70:  0.0174917\n",
      "Cost after step    75:  0.0170930\n",
      "Cost after step    80:  0.0167838\n",
      "Cost after step    85:  0.0165421\n",
      "Cost after step    90:  0.0163521\n",
      "Cost after step    95:  0.0162021\n",
      "Cost after step   100:  0.0160831\n",
      "Optimized rotation angles: [[[ 0.75714024  1.51031633  0.02599686]\n",
      "  [ 0.23630107  1.45225048 -0.28068405]]\n",
      "\n",
      " [[ 0.2836144   1.686108    0.66316209]\n",
      "  [ 0.77238239  0.68440789  0.95067224]]]\n"
     ]
    }
   ],
   "source": [
    "@qml.qnode(qml.device('default.mixed', wires=n_qubits))\n",
    "def train_cir_without_qem(parameters):\n",
    "    qml.StronglyEntanglingLayers(weights=parameters, wires=range(2))\n",
    "    qml.QubitChannel(nqubitsdepolarizingchannel, wires=[0, 1])\n",
    "    qml.QubitChannel(nqubitspaulichannel, wires=[0, 1])\n",
    "    return qml.expval(qml.PauliZ(0)@qml.PauliZ(1))\n",
    "\n",
    "\n",
    "shape = qml.StronglyEntanglingLayers.shape(n_layers=2, n_wires=2)\n",
    "weights = np.random.random(size=shape)\n",
    "\n",
    "def cost(x):\n",
    "    return ((train_cir_without_qem(x))-(-1))**2\n",
    "\n",
    "opt = qml.GradientDescentOptimizer(stepsize=0.1)\n",
    "\n",
    "lst = []\n",
    "# set the number of steps\n",
    "steps = 100\n",
    "# set the initial parameter values\n",
    "params = weights\n",
    "\n",
    "for i in range(steps):\n",
    "    # update the circuit parameters\n",
    "    params = opt.step(cost, params)\n",
    "\n",
    "    if (i + 1) % 5 == 0:\n",
    "        print(\"Cost after step {:5d}: {: .7f}\".format(i + 1, cost(params)))\n",
    "        lst.append(cost(params))\n",
    "print(\"Optimized rotation angles: {}\".format(params))"
   ]
  },
  {
   "cell_type": "code",
   "execution_count": null,
   "id": "2faf6b0d",
   "metadata": {},
   "outputs": [],
   "source": []
  }
 ],
 "metadata": {
  "kernelspec": {
   "display_name": "Python 3 (ipykernel)",
   "language": "python",
   "name": "python3"
  },
  "language_info": {
   "codemirror_mode": {
    "name": "ipython",
    "version": 3
   },
   "file_extension": ".py",
   "mimetype": "text/x-python",
   "name": "python",
   "nbconvert_exporter": "python",
   "pygments_lexer": "ipython3",
   "version": "3.7.16"
  }
 },
 "nbformat": 4,
 "nbformat_minor": 5
}

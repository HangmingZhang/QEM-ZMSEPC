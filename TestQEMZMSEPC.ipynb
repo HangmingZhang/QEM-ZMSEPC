{
 "cells": [
  {
   "cell_type": "code",
   "execution_count": 1,
   "id": "9201f22c",
   "metadata": {},
   "outputs": [],
   "source": [
    "import pennylane as qml\n",
    "from pennylane import numpy as np\n",
    "import QEMZMSEPC as qem"
   ]
  },
  {
   "cell_type": "code",
   "execution_count": 3,
   "id": "ea873da6",
   "metadata": {},
   "outputs": [
    {
     "name": "stdout",
     "output_type": "stream",
     "text": [
      "z_ideal is 1.0\n",
      "z_unmitigated is 0.7233159225084154\n",
      "z_mitigated is 1.0000000000000058\n",
      "------------------\n",
      "z_ideal is 0.5931327983656769\n",
      "z_unmitigated is 0.45405660048882235\n",
      "z_mitigated is 0.593132798365679\n",
      "------------------\n",
      "z_ideal is 0.1493041506116879\n",
      "z_unmitigated is 0.11401494229119927\n",
      "z_mitigated is 0.1493041506116931\n",
      "------------------\n",
      "z_ideal is 0.0051202072280735166\n",
      "z_unmitigated is 0.00369759486214976\n",
      "z_mitigated is 0.005120207228076073\n",
      "------------------\n",
      "z_ideal is 0.0002755900039979539\n",
      "z_unmitigated is 0.00013753626937542535\n",
      "z_mitigated is 0.0002755900039963686\n",
      "------------------\n",
      "z_ideal is 0.06495850756506487\n",
      "z_unmitigated is 0.03370852681732092\n",
      "z_mitigated is 0.0649585075650565\n",
      "------------------\n",
      "z_ideal is 0.4119471515970569\n",
      "z_unmitigated is 0.1510735060925459\n",
      "z_mitigated is 0.4119471515970647\n",
      "------------------\n"
     ]
    }
   ],
   "source": [
    "n_qubits = 4\n",
    "dev = qml.device('default.mixed', wires=n_qubits)\n",
    "\n",
    "# In the simulation, we target different rotation angles of the RX gate.\n",
    "# If the ZMSEPC theory is correct,\n",
    "# the values after error mitigation through the QEM-ZMSEPC method should be the same as the ideal values.\n",
    "\n",
    "rotation_angle = [0, 0.5, 0.9, 1.3, 1.7, 2.1, 2.5]\n",
    "p = 0.8 # p: Depolarization rate.\n",
    "for rotation_angle_of_rx in rotation_angle:\n",
    "    nqubitspaulimatrices = qem.NqubitsPauliMatrices(n_qubits)\n",
    "    pauli_set_n_qubits = nqubitspaulimatrices.get_pauli_matrices_of_n_qubits()\n",
    "    nqubitschannel = qem.NqubitsChannel(n_qubits, pauli_set_n_qubits)\n",
    "    kraus_matrices_of_a_pauli_channel = nqubitschannel.nqubitsrandompaulichannel()\n",
    "    # The operations and paras required to simulate a Trotter step quantum circuit are as follows.\n",
    "    operations = ['RX', 'RX', 'RX', 'RX', 'CNOT', 'CNOT', 'RZ', 'RZ', 'CNOT', 'CNOT', 'CNOT', 'RZ', 'CNOT']\n",
    "    rotation_angle_of_rz = -0.2\n",
    "    paras = [[0, rotation_angle_of_rx], [1, rotation_angle_of_rx], [2, rotation_angle_of_rx], [3, rotation_angle_of_rx], [0, 1], [2, 3], [1, rotation_angle_of_rz], [3, rotation_angle_of_rz], [0, 1], [2, 3], [1, 2], [2, rotation_angle_of_rz], [1, 2]]\n",
    "    # apply QEM-ZMSEPC method\n",
    "    qemzmsepc = qem.QEMZMSEPC(n_qubits)\n",
    "    z_ideal = qemzmsepc.circuit_output(operations=operations, paras=paras, dev=dev)\n",
    "    print(f\"z_ideal is {z_ideal}\")\n",
    "    z_unmitigated = qemzmsepc.circuit_output(operations=operations, paras=paras, p=p, dev=dev,\n",
    "                        kraus_matrices_of_a_pauli_channel=kraus_matrices_of_a_pauli_channel,\n",
    "                        need_gate_noise=True, need_measurement_noise=True)\n",
    "    print(f\"z_unmitigated is {z_unmitigated}\")\n",
    "    z_mitigated, _ = qemzmsepc.qemzmsepc(operations=operations, paras=paras, p=p,\n",
    "                        kraus_matrices_of_a_pauli_channel=kraus_matrices_of_a_pauli_channel, dev=dev)\n",
    "    print(f\"z_mitigated is {z_mitigated}\")\n",
    "    print(\"------------------\")"
   ]
  },
  {
   "cell_type": "code",
   "execution_count": null,
   "id": "817294f8",
   "metadata": {},
   "outputs": [],
   "source": []
  }
 ],
 "metadata": {
  "kernelspec": {
   "display_name": "Python 3 (ipykernel)",
   "language": "python",
   "name": "python3"
  },
  "language_info": {
   "codemirror_mode": {
    "name": "ipython",
    "version": 3
   },
   "file_extension": ".py",
   "mimetype": "text/x-python",
   "name": "python",
   "nbconvert_exporter": "python",
   "pygments_lexer": "ipython3",
   "version": "3.7.16"
  }
 },
 "nbformat": 4,
 "nbformat_minor": 5
}
